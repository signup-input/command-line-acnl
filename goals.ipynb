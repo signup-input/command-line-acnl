{
 "cells": [
  {
   "cell_type": "markdown",
   "metadata": {},
   "source": [
    "<link rel=\"stylesheet\" href=\"https://www.w3schools.com/w3css/4/w3.css\">\n",
    "Without further ado, here is:\n",
    "<hr>\n",
    "<h1>Animal Crossing Command Line Game</h1>\n",
    "<h3>Dedicated to Mom.</h3>\n",
    "<hr>\n",
    "<ul>\n",
    "<h2>Gameplay goals:</h2>\n",
    "<h5 style = \"text-indent: 5px;\">Strike out when completed.</h5>\n",
    "<hr class = \"w3-padding\">\n",
    "<li>User in exits house upon game boot</li>\n",
    "<li>things to do outside house:\n",
    "<ul>\n",
    "<li>directly outside</li>\n",
    "<ul>\n",
    "<li>talk to people</li>\n",
    "<li>visit people</li>\n",
    "<li>plant tree/flower/whatever</li>\n",
    "<li>pick up/drop things</li>\n",
    "</ul>\n",
    "\n",
    "<li>donate to museum:</li>\n",
    "<ul>\n",
    "<li>catch fish/bug</li>\n",
    "<li>dig up fossil</li>\n",
    "<li>buy art</li>\n",
    "</ul>\n",
    "\n",
    "<li>shop:</li>\n",
    "<ul>\n",
    "<li>sell stuff</li>\n",
    "<li>buy stuff</li>\n",
    "<li>clothes</li>\n",
    "<li>get hair done</li>\n",
    "<li>use atm</li>\n",
    "</ul>\n",
    "\n",
    "<li>other stuff:</li>\n",
    "<ul>\n",
    "<li>meet other in-game <i>humans</i></li>\n",
    "<li>minigames:</li>\n",
    "<li>get a job:</li>\n",
    "<ul></ul>\n",
    "<li>life stories like in Sims:</li>\n",
    "<ul></ul>\n",
    "<li>get a pet:</li>\n",
    "<ul></ul>\n",
    "<li>turn-based rpg fights:</li>\n",
    "<ul></ul>\n",
    "<li>in-game social media:</li>\n",
    "<ul></ul>\n",
    "<li>in-game chat:</li>\n",
    "<ul></ul>\n",
    "<li>in-game music:</li>\n",
    "<ul></ul>\n",
    "</ul>\n",
    "</ul>\n",
    "</ul>\n",
    "</ul>"
   ]
  }
 ],
 "metadata": {
  "kernelspec": {
   "display_name": "Python 3.10.5 64-bit",
   "language": "python",
   "name": "python3"
  },
  "language_info": {
   "codemirror_mode": {
    "name": "ipython",
    "version": 3
   },
   "file_extension": ".py",
   "mimetype": "text/x-python",
   "name": "python",
   "nbconvert_exporter": "python",
   "pygments_lexer": "ipython3",
   "version": "3.10.5"
  },
  "orig_nbformat": 4,
  "vscode": {
   "interpreter": {
    "hash": "c64c7f7f2809fd08e6f53c9d554c757099a33ec4c4accddf2f94f053b5576281"
   }
  }
 },
 "nbformat": 4,
 "nbformat_minor": 2
}
